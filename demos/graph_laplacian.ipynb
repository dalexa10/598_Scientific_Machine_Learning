{
 "cells": [
  {
   "cell_type": "code",
   "execution_count": null,
   "id": "c23c81fa-5480-4bc6-9867-960618acd1db",
   "metadata": {},
   "outputs": [],
   "source": [
    "import numpy as np\n",
    "import scipy.linalg as la\n",
    "import scipy.sparse as sparse\n",
    "import matplotlib.pyplot as plt\n",
    "%matplotlib inline\n",
    "%config InlineBackend.figure_format='retina'"
   ]
  },
  {
   "cell_type": "code",
   "execution_count": null,
   "id": "52d71bfb-b4db-48b1-97c6-89a4137dc78a",
   "metadata": {},
   "outputs": [],
   "source": [
    "# Load the mesh vertices and elements\n",
    "V = np.loadtxt('mesh.v')\n",
    "E = np.loadtxt('mesh.e', dtype=int)\n",
    "nv = V.shape[0]\n",
    "ne = E.shape[0]\n",
    "X, Y = V[:, 0], V[:, 1]"
   ]
  },
  {
   "cell_type": "code",
   "execution_count": null,
   "id": "83ab2373-d82a-40f7-8ad7-a95d14e7b1f4",
   "metadata": {},
   "outputs": [],
   "source": [
    "plt.triplot(X, Y, E)"
   ]
  },
  {
   "cell_type": "code",
   "execution_count": null,
   "id": "004fde17-a717-4e6a-bc1a-e2fe4a48a077",
   "metadata": {},
   "outputs": [],
   "source": [
    "ID = np.kron(np.arange(0, ne), np.ones((3,), dtype=int))\n",
    "G = sparse.coo_matrix((np.ones((ne*3,)), (E.ravel(), ID,)))\n",
    "print('G shape: ', G.shape)\n",
    "E2E = G.T * G\n",
    "V2V = G * G.T\n",
    "#V2V = V2V.todia()\n",
    "print('V2V shape: ', V2V.shape)\n",
    "print('E2E shape: ', E2E.shape)"
   ]
  },
  {
   "cell_type": "code",
   "execution_count": null,
   "id": "429764d0-fc03-4c5f-b949-f5dc38d80213",
   "metadata": {},
   "outputs": [],
   "source": [
    "plt.scatter(X, Y, c=V2V.diagonal(), clip_on=False)\n",
    "plt.colorbar()\n",
    "plt.show()\n",
    "E2E.data = 0.0 * E2E.data + 1.0\n",
    "nbrs = np.array(E2E.sum(axis=0)).ravel()\n",
    "plt.tripcolor(X, Y, triangles=E, facecolors=nbrs)\n",
    "plt.colorbar()"
   ]
  },
  {
   "cell_type": "code",
   "execution_count": null,
   "id": "14857054-f36e-4e86-a395-f2b2204bf98d",
   "metadata": {},
   "outputs": [],
   "source": [
    "# construct graph laplacian\n",
    "A = V2V.tocoo()\n",
    "A.data = -1 * np.ones((A.nnz,), dtype=float)\n",
    "A.setdiag(np.zeros((G.shape[1],), dtype=float))\n",
    "A.setdiag(-1 * np.array(A.sum(axis=1)).ravel())"
   ]
  },
  {
   "cell_type": "code",
   "execution_count": null,
   "id": "240b86cb-ca7f-4f5b-83f5-13ff32b7c8e4",
   "metadata": {},
   "outputs": [],
   "source": [
    "eigenvalues, eigenvectors = sparse.linalg.eigs(A, k=5, which='SM')"
   ]
  },
  {
   "cell_type": "code",
   "execution_count": null,
   "id": "75d1a63c-8495-4b2f-b66b-652ac2cb6987",
   "metadata": {},
   "outputs": [],
   "source": [
    "eigenvalues"
   ]
  },
  {
   "cell_type": "code",
   "execution_count": null,
   "id": "e95f18e8-c4e1-4c83-acaa-78309f0db0e1",
   "metadata": {},
   "outputs": [],
   "source": [
    "eigenvectors\n"
   ]
  },
  {
   "cell_type": "code",
   "execution_count": null,
   "id": "e9a17290-bcfb-49ab-9e64-3209c56ba7db",
   "metadata": {},
   "outputs": [],
   "source": [
    "i = np.argsort(np.real(eigenvalues))\n",
    "xv = eigenvectors[:, i[1]]\n",
    "yv = eigenvectors[:, i[2]]"
   ]
  },
  {
   "cell_type": "code",
   "execution_count": null,
   "id": "f0d6b35a-37a2-450a-b3c1-f667b6c72a56",
   "metadata": {},
   "outputs": [],
   "source": [
    "fig, ax = plt.subplots()\n",
    "ax.triplot(xv.real, yv.real, E)\n",
    "ax.set_aspect(1)"
   ]
  },
  {
   "cell_type": "code",
   "execution_count": null,
   "id": "d2ac58ee-687f-46a6-8ebb-6279fc753bb3",
   "metadata": {},
   "outputs": [],
   "source": []
  },
  {
   "cell_type": "code",
   "execution_count": null,
   "id": "3e6f7b6e-73ea-474a-a6de-0e6b5f6fab02",
   "metadata": {},
   "outputs": [],
   "source": []
  }
 ],
 "metadata": {
  "kernelspec": {
   "display_name": "Python 3 (ipykernel)",
   "language": "python",
   "name": "python3"
  },
  "language_info": {
   "codemirror_mode": {
    "name": "ipython",
    "version": 3
   },
   "file_extension": ".py",
   "mimetype": "text/x-python",
   "name": "python",
   "nbconvert_exporter": "python",
   "pygments_lexer": "ipython3",
   "version": "3.11.6"
  }
 },
 "nbformat": 4,
 "nbformat_minor": 5
}
